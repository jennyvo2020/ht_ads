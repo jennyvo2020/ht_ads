{
 "cells": [
  {
   "cell_type": "markdown",
   "metadata": {},
   "source": [
    "# Objective\n",
    "\n",
    "Try to see whether the rows with age > 40 and date = 2015-02-02 have any IDs that map to the IDs available in the jsonl files so we can check the age.\n",
    "\n",
    "# Takeaways\n",
    "\n",
    "In the first million lines of the tsv file, none of the thirteen rows with age > 40 and with date = 2015-02-02 had IDs that map to any of the 146,842 IDs available in the jsonl files that are readable (0001.jsonl, 0002.jsonl, and 0003.jsonl).\n",
    "\n",
    "My computer was unable to unzip 0000.jsonl.gz.\n",
    "\n",
    "Also, looking at the extracted text feature, there wasn't much more I could really see to be extracted.\n",
    "\n",
    "# Next step\n",
    "\n",
    "Try to read 0000.jsonl contents another way.\n",
    "\n",
    "Read more than one million lines of the tsv file.\n"
   ]
  },
  {
   "cell_type": "code",
   "execution_count": 2,
   "metadata": {
    "collapsed": true
   },
   "outputs": [],
   "source": [
    "import csv, re, jsonlines\n",
    "import numpy as np\n",
    "import matplotlib.pyplot as plt\n",
    "import pandas as pd\n",
    "from collections import Counter"
   ]
  },
  {
   "cell_type": "markdown",
   "metadata": {},
   "source": [
    "### Exploring the JSONL files"
   ]
  },
  {
   "cell_type": "code",
   "execution_count": 194,
   "metadata": {
    "collapsed": true
   },
   "outputs": [],
   "source": [
    "fname = '0001.jsonl'\n",
    "with jsonlines.open(fname) as f:\n",
    "    data = [line for line in f.iter()]\n",
    "df = pd.DataFrame(data)"
   ]
  },
  {
   "cell_type": "code",
   "execution_count": 72,
   "metadata": {},
   "outputs": [
    {
     "data": {
      "text/plain": [
       "'\\n\\n\\n\\n\\n\\n\\nLive Escort Reviews - 415-745-4689 - .Sexy BLONDE!!(( Your PlEASURE Is My PURPOSE)) - 19\\n\\n\\n \\n\\n\\n\\n \\n\\n\\n\\n\\n\\n\\n\\n\\n\\n Login /\\n Register\\n\\n\\n\\n\\nSacramento, CA\\n\\n\\n\\n\\n  \\n\\n\\n\\nEscort Ads\\n |\\n\\nBody Rub Ads\\n |\\n\\nCam Models\\n |\\n\\nFilter Fakes\\n |\\n\\nReviewed Ads\\n\\n\\n\\n\\n\\n\\n\\n\\n\\n\\n\\n\\n\\n\\n \\n\\n\\nPin Ad to Gallery\\n\\n \\n\\n\\n\\n\\n\\n\\n\\n\\n\\n\\n\\n\\n\\n\\n\\n\\n\\n\\n\\n\\n \\n\\n.Sexy BLONDE!!(( Your PlEASURE Is My PURPOSE)) - 19\\n\\n\\n Sacramento East, Yuba City/Marysville | Friday, January 2, 2015 10:44 AM | •\\n415-745-4689\\n\\n\\n \\n\\n\\n\\n\\nNo TER review found\\n\\n\\n\\n\\nWrite a review\\n\\n\\n \\n\\n\\n\\n\\nMore ads and images with this phone number:\\n\\n\\n\\n\\n\\n\\n\\n\\n\\n\\n\\n\\n\\n\\n\\n\\n\\n\\n\\n\\n\\n\\n\\n\\n\\n\\n\\n\\n\\n\\n\\n\\n\\n\\n\\n\\n\\n \\n \\n\\n\\n\\n\\nBackpage Link\\n\\n\\n\\n\\n\\nBack to Gallery\\n\\n\\n\\n[ Report Ad ]\\n\\n\\n\\n  \\n\\n  \\n\\n\\n\\n  \\n\\n\\nAll Cities |\\nEscort Ads |\\nReviewed Ads |\\nContact |\\nAbout\\n\\n\\n\\nCopyright @ 2014 LiveEscortReviews.com\\n\\n\\n\\n  \\n \\n\\n \\n\\n\\n\\n\\n\\n\\n\\n'"
      ]
     },
     "execution_count": 72,
     "metadata": {},
     "output_type": "execute_result"
    }
   ],
   "source": [
    "df['extracted_text'][0]"
   ]
  },
  {
   "cell_type": "code",
   "execution_count": 73,
   "metadata": {},
   "outputs": [
    {
     "data": {
      "text/plain": [
       "'3BC13826C2F861DF36F03B4B58D290BEC9FBB1DE2CB710D2505283D0D1EBF2EC'"
      ]
     },
     "execution_count": 73,
     "metadata": {},
     "output_type": "execute_result"
    }
   ],
   "source": [
    "list(df['doc_id'])[0]"
   ]
  },
  {
   "cell_type": "markdown",
   "metadata": {},
   "source": [
    "# Investigating ethnicity and age in the TSV"
   ]
  },
  {
   "cell_type": "markdown",
   "metadata": {},
   "source": [
    "Just looking at the first half million entries for now (since that's about as much as my Macbook Pro can handle locally)."
   ]
  },
  {
   "cell_type": "code",
   "execution_count": 165,
   "metadata": {
    "collapsed": true
   },
   "outputs": [],
   "source": [
    "df_tsv = pd.read_csv(\"extractions_02_19_2020.tsv\", \n",
    "                 sep='\\t', \n",
    "                 nrows=1000000)"
   ]
  },
  {
   "cell_type": "code",
   "execution_count": 166,
   "metadata": {
    "collapsed": true
   },
   "outputs": [],
   "source": [
    "df_2015_02_02 = df_tsv.loc[df_tsv['date'] == '2015-02-02']"
   ]
  },
  {
   "cell_type": "code",
   "execution_count": 167,
   "metadata": {
    "collapsed": true
   },
   "outputs": [],
   "source": [
    "ages_all = []\n",
    "num_unknowns = 0\n",
    "for entry in list(df_2015_02_02['age']):\n",
    "    if type(entry) is str:\n",
    "        ages_all.append(int(entry[2:-2]))\n",
    "    else:\n",
    "        ages_all.append(0)"
   ]
  },
  {
   "cell_type": "code",
   "execution_count": 168,
   "metadata": {
    "collapsed": true
   },
   "outputs": [],
   "source": [
    "ids_all = []\n",
    "for entry in list(df_2015_02_02['id ']):\n",
    "    ids_all.append(entry[:-1])"
   ]
  },
  {
   "cell_type": "code",
   "execution_count": 169,
   "metadata": {
    "collapsed": true
   },
   "outputs": [],
   "source": [
    "confidences_all = []\n",
    "for entry in list(df_2015_02_02['location-fonduer']):\n",
    "    if type(entry) is str and len(entry) > 2:\n",
    "        confidences_all.append(int(entry[-2]))\n",
    "    else:\n",
    "        confidences_all.append(0)"
   ]
  },
  {
   "cell_type": "code",
   "execution_count": 170,
   "metadata": {
    "collapsed": true
   },
   "outputs": [],
   "source": [
    "df_clean = pd.DataFrame(\n",
    "    {'ID': ids_all,\n",
    "     'Age': ages_all,\n",
    "     'Confidence': confidences_all})"
   ]
  },
  {
   "cell_type": "code",
   "execution_count": 179,
   "metadata": {
    "collapsed": true
   },
   "outputs": [],
   "source": [
    "df_older = df_clean[df_clean.Age > 40]"
   ]
  },
  {
   "cell_type": "code",
   "execution_count": 180,
   "metadata": {},
   "outputs": [
    {
     "data": {
      "text/plain": [
       "13"
      ]
     },
     "execution_count": 180,
     "metadata": {},
     "output_type": "execute_result"
    }
   ],
   "source": [
    "len(df_older)"
   ]
  },
  {
   "cell_type": "code",
   "execution_count": 181,
   "metadata": {
    "scrolled": true
   },
   "outputs": [
    {
     "data": {
      "text/html": [
       "<div>\n",
       "<style scoped>\n",
       "    .dataframe tbody tr th:only-of-type {\n",
       "        vertical-align: middle;\n",
       "    }\n",
       "\n",
       "    .dataframe tbody tr th {\n",
       "        vertical-align: top;\n",
       "    }\n",
       "\n",
       "    .dataframe thead th {\n",
       "        text-align: right;\n",
       "    }\n",
       "</style>\n",
       "<table border=\"1\" class=\"dataframe\">\n",
       "  <thead>\n",
       "    <tr style=\"text-align: right;\">\n",
       "      <th></th>\n",
       "      <th>ID</th>\n",
       "      <th>Age</th>\n",
       "      <th>Confidence</th>\n",
       "    </tr>\n",
       "  </thead>\n",
       "  <tbody>\n",
       "    <tr>\n",
       "      <th>9</th>\n",
       "      <td>A86AF4CA0468A1A2B677A4882B610783A390E48A16BC08...</td>\n",
       "      <td>42</td>\n",
       "      <td>0</td>\n",
       "    </tr>\n",
       "    <tr>\n",
       "      <th>41</th>\n",
       "      <td>6AC58620DF74663409876DDA81D499762037504290E840...</td>\n",
       "      <td>69</td>\n",
       "      <td>0</td>\n",
       "    </tr>\n",
       "    <tr>\n",
       "      <th>159</th>\n",
       "      <td>C3FA32DEC1E6FD2ADA72AE806F20727DC33781D77BFF01...</td>\n",
       "      <td>44</td>\n",
       "      <td>1</td>\n",
       "    </tr>\n",
       "    <tr>\n",
       "      <th>218</th>\n",
       "      <td>55AD5E19DF167FA7D83144686BA51C6170DAAE0DF37031...</td>\n",
       "      <td>44</td>\n",
       "      <td>1</td>\n",
       "    </tr>\n",
       "    <tr>\n",
       "      <th>228</th>\n",
       "      <td>FAB1ADB96A3E582498C5EE07825B1223BC4EDCE84B18D1...</td>\n",
       "      <td>49</td>\n",
       "      <td>0</td>\n",
       "    </tr>\n",
       "    <tr>\n",
       "      <th>242</th>\n",
       "      <td>7129D9FA5FFFC3232210C1F4FA3F45259B2FA01D0C369D...</td>\n",
       "      <td>98</td>\n",
       "      <td>1</td>\n",
       "    </tr>\n",
       "    <tr>\n",
       "      <th>265</th>\n",
       "      <td>93DDD3754AADEBBF1C7164F12268943749EE77E84880E6...</td>\n",
       "      <td>44</td>\n",
       "      <td>1</td>\n",
       "    </tr>\n",
       "    <tr>\n",
       "      <th>344</th>\n",
       "      <td>DFA674E338C92214F8C030A20FF9811B1765A3903E3528...</td>\n",
       "      <td>43</td>\n",
       "      <td>1</td>\n",
       "    </tr>\n",
       "    <tr>\n",
       "      <th>414</th>\n",
       "      <td>FA6958AC53BF92802817F3E2474754553BDECB17A1AD40...</td>\n",
       "      <td>99</td>\n",
       "      <td>1</td>\n",
       "    </tr>\n",
       "    <tr>\n",
       "      <th>421</th>\n",
       "      <td>B5E5649779E577EFF7BFC8B659E167B731413672D42403...</td>\n",
       "      <td>47</td>\n",
       "      <td>0</td>\n",
       "    </tr>\n",
       "    <tr>\n",
       "      <th>557</th>\n",
       "      <td>D36D12475517E872C4130AFF3D1E2B4E2772EA0830D009...</td>\n",
       "      <td>55</td>\n",
       "      <td>1</td>\n",
       "    </tr>\n",
       "    <tr>\n",
       "      <th>628</th>\n",
       "      <td>7D886B16D2ED44D7B7FF6604E31BED95F277C52B1A1ED5...</td>\n",
       "      <td>45</td>\n",
       "      <td>1</td>\n",
       "    </tr>\n",
       "    <tr>\n",
       "      <th>648</th>\n",
       "      <td>25CD50150014EE8637D6616EF6DD6B1CD44A891E244AA7...</td>\n",
       "      <td>54</td>\n",
       "      <td>0</td>\n",
       "    </tr>\n",
       "  </tbody>\n",
       "</table>\n",
       "</div>"
      ],
      "text/plain": [
       "                                                    ID  Age  Confidence\n",
       "9    A86AF4CA0468A1A2B677A4882B610783A390E48A16BC08...   42           0\n",
       "41   6AC58620DF74663409876DDA81D499762037504290E840...   69           0\n",
       "159  C3FA32DEC1E6FD2ADA72AE806F20727DC33781D77BFF01...   44           1\n",
       "218  55AD5E19DF167FA7D83144686BA51C6170DAAE0DF37031...   44           1\n",
       "228  FAB1ADB96A3E582498C5EE07825B1223BC4EDCE84B18D1...   49           0\n",
       "242  7129D9FA5FFFC3232210C1F4FA3F45259B2FA01D0C369D...   98           1\n",
       "265  93DDD3754AADEBBF1C7164F12268943749EE77E84880E6...   44           1\n",
       "344  DFA674E338C92214F8C030A20FF9811B1765A3903E3528...   43           1\n",
       "414  FA6958AC53BF92802817F3E2474754553BDECB17A1AD40...   99           1\n",
       "421  B5E5649779E577EFF7BFC8B659E167B731413672D42403...   47           0\n",
       "557  D36D12475517E872C4130AFF3D1E2B4E2772EA0830D009...   55           1\n",
       "628  7D886B16D2ED44D7B7FF6604E31BED95F277C52B1A1ED5...   45           1\n",
       "648  25CD50150014EE8637D6616EF6DD6B1CD44A891E244AA7...   54           0"
      ]
     },
     "execution_count": 181,
     "metadata": {},
     "output_type": "execute_result"
    }
   ],
   "source": [
    "df_older"
   ]
  },
  {
   "cell_type": "code",
   "execution_count": 199,
   "metadata": {
    "collapsed": true
   },
   "outputs": [],
   "source": [
    "available_ids = []\n",
    "fnames = ['0001.jsonl', '0002.jsonl', '0003.jsonl']\n",
    "for fname in fnames:\n",
    "    with jsonlines.open(fname) as f:\n",
    "        data = [line for line in f.iter()]\n",
    "    df = pd.DataFrame(data)\n",
    "    available_ids += list(df['doc_id'])"
   ]
  },
  {
   "cell_type": "code",
   "execution_count": 198,
   "metadata": {},
   "outputs": [
    {
     "name": "stdout",
     "output_type": "stream",
     "text": [
      "146843\n"
     ]
    }
   ],
   "source": [
    "len(available_ids)"
   ]
  },
  {
   "cell_type": "code",
   "execution_count": 182,
   "metadata": {},
   "outputs": [
    {
     "name": "stdout",
     "output_type": "stream",
     "text": [
      "False\n",
      "False\n",
      "False\n",
      "False\n",
      "False\n",
      "False\n",
      "False\n",
      "False\n",
      "False\n",
      "False\n",
      "False\n",
      "False\n",
      "False\n"
     ]
    }
   ],
   "source": [
    "for ind in df_older.index:\n",
    "    print(df_older['ID'][ind] in available_ids)"
   ]
  },
  {
   "cell_type": "code",
   "execution_count": 187,
   "metadata": {
    "collapsed": true
   },
   "outputs": [],
   "source": [
    "available_ids = []\n",
    "fnames = ['0001.jsonl', '0002.jsonl', '0003.jsonl']\n",
    "for fname in fnames:\n",
    "    with jsonlines.open(fname) as f:\n",
    "        data = [line for line in f.iter()]\n",
    "    df = pd.DataFrame(data)\n",
    "    available_ids += list(df['doc_id'])"
   ]
  },
  {
   "cell_type": "code",
   "execution_count": null,
   "metadata": {
    "collapsed": true
   },
   "outputs": [],
   "source": []
  }
 ],
 "metadata": {
  "kernelspec": {
   "display_name": "Python 3",
   "language": "python",
   "name": "python3"
  },
  "language_info": {
   "codemirror_mode": {
    "name": "ipython",
    "version": 3
   },
   "file_extension": ".py",
   "mimetype": "text/x-python",
   "name": "python",
   "nbconvert_exporter": "python",
   "pygments_lexer": "ipython3",
   "version": "3.8.2"
  }
 },
 "nbformat": 4,
 "nbformat_minor": 2
}
