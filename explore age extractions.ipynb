{
 "cells": [
  {
   "cell_type": "markdown",
   "metadata": {},
   "source": [
    "# Objective\n",
    "\n",
    "Try to see whether the rows with age > 40 and date = 2015-02-02 have any IDs that map to the IDs available in the jsonl files so we can check the age.\n",
    "\n",
    "# Takeaways\n",
    "\n",
    "In the first million lines of the tsv file, none of the thirteen rows with age > 40 and with date = 2015-02-02 had IDs that map to any of the 146,842 IDs available in the jsonl files that are readable (0001.jsonl, 0002.jsonl, and 0003.jsonl).\n",
    "\n",
    "My computer was unable to unzip 0000.jsonl.gz.\n",
    "\n",
    "Also, looking at the extracted text feature, there wasn't much more I could really see to be extracted.\n",
    "\n",
    "# Next step\n",
    "\n",
    "Try to read 0000.jsonl contents another way.\n",
    "\n",
    "Read more than one million lines of the tsv file.\n"
   ]
  },
  {
   "cell_type": "code",
   "execution_count": 2,
   "metadata": {
    "collapsed": true
   },
   "outputs": [],
   "source": [
    "import csv, re, jsonlines\n",
    "import numpy as np\n",
    "import matplotlib.pyplot as plt\n",
    "import pandas as pd\n",
    "from collections import Counter"
   ]
  },
  {
   "cell_type": "markdown",
   "metadata": {},
   "source": [
    "### Exploring the JSONL files"
   ]
  },
  {
   "cell_type": "code",
   "execution_count": 194,
   "metadata": {
    "collapsed": true
   },
   "outputs": [],
   "source": [
    "fname = '0001.jsonl'\n",
    "with jsonlines.open(fname) as f:\n",
    "    data = [line for line in f.iter()]\n",
    "df = pd.DataFrame(data)"
   ]
  },
  {
   "cell_type": "code",
   "execution_count": 72,
   "metadata": {},
   "outputs": [
    {
     "data": {
      "text/plain": [
       "'\\n\\n\\n\\n\\n\\n\\nLive Escort Reviews - 415-745-4689 - .Sexy BLONDE!!(( Your PlEASURE Is My PURPOSE)) - 19\\n\\n\\n \\n\\n\\n\\n \\n\\n\\n\\n\\n\\n\\n\\n\\n\\n Login /\\n Register\\n\\n\\n\\n\\nSacramento, CA\\n\\n\\n\\n\\n  \\n\\n\\n\\nEscort Ads\\n |\\n\\nBody Rub Ads\\n |\\n\\nCam Models\\n |\\n\\nFilter Fakes\\n |\\n\\nReviewed Ads\\n\\n\\n\\n\\n\\n\\n\\n\\n\\n\\n\\n\\n\\n\\n \\n\\n\\nPin Ad to Gallery\\n\\n \\n\\n\\n\\n\\n\\n\\n\\n\\n\\n\\n\\n\\n\\n\\n\\n\\n\\n\\n\\n\\n \\n\\n.Sexy BLONDE!!(( Your PlEASURE Is My PURPOSE)) - 19\\n\\n\\n Sacramento East, Yuba City/Marysville | Friday, January 2, 2015 10:44 AM | •\\n415-745-4689\\n\\n\\n \\n\\n\\n\\n\\nNo TER review found\\n\\n\\n\\n\\nWrite a review\\n\\n\\n \\n\\n\\n\\n\\nMore ads and images with this phone number:\\n\\n\\n\\n\\n\\n\\n\\n\\n\\n\\n\\n\\n\\n\\n\\n\\n\\n\\n\\n\\n\\n\\n\\n\\n\\n\\n\\n\\n\\n\\n\\n\\n\\n\\n\\n\\n\\n \\n \\n\\n\\n\\n\\nBackpage Link\\n\\n\\n\\n\\n\\nBack to Gallery\\n\\n\\n\\n[ Report Ad ]\\n\\n\\n\\n  \\n\\n  \\n\\n\\n\\n  \\n\\n\\nAll Cities |\\nEscort Ads |\\nReviewed Ads |\\nContact |\\nAbout\\n\\n\\n\\nCopyright @ 2014 LiveEscortReviews.com\\n\\n\\n\\n  \\n \\n\\n \\n\\n\\n\\n\\n\\n\\n\\n'"
      ]
     },
     "execution_count": 72,
     "metadata": {},
     "output_type": "execute_result"
    }
   ],
   "source": [
    "df['extracted_text'][0]"
   ]
  },
  {
   "cell_type": "code",
   "execution_count": 73,
   "metadata": {},
   "outputs": [
    {
     "data": {
      "text/plain": [
       "'3BC13826C2F861DF36F03B4B58D290BEC9FBB1DE2CB710D2505283D0D1EBF2EC'"
      ]
     },
     "execution_count": 73,
     "metadata": {},
     "output_type": "execute_result"
    }
   ],
   "source": [
    "list(df['doc_id'])[0]"
   ]
  },
  {
   "cell_type": "markdown",
   "metadata": {},
   "source": [
    "# Investigating ethnicity and age in the TSV"
   ]
  },
  {
   "cell_type": "markdown",
   "metadata": {},
   "source": [
    "Just looking at the first half million entries for now (since that's about as much as my Macbook Pro can handle locally)."
   ]
  },
  {
   "cell_type": "code",
   "execution_count": 165,
   "metadata": {},
   "outputs": [],
   "source": [
    "df_tsv = pd.read_csv(\"extractions_02_19_2020.tsv\", \n",
    "                 sep='\\t', \n",
    "                 nrows=1000000)"
   ]
  },
  {
   "cell_type": "code",
   "execution_count": 166,
   "metadata": {
    "collapsed": true
   },
   "outputs": [],
   "source": [
    "df_2015_02_02 = df_tsv.loc[df_tsv['date'] == '2015-02-02']"
   ]
  },
  {
   "cell_type": "code",
   "execution_count": 167,
   "metadata": {},
   "outputs": [],
   "source": [
    "ages_all = []\n",
    "num_unknowns = 0\n",
    "for entry in list(df_2015_02_02['age']):\n",
    "    if type(entry) is str:\n",
    "        ages_all.append(int(entry[2:-2]))\n",
    "    else:\n",
    "        ages_all.append(0)"
   ]
  },
  {
   "cell_type": "code",
   "execution_count": 168,
   "metadata": {},
   "outputs": [],
   "source": [
    "ids_all = []\n",
    "for entry in list(df_2015_02_02['id ']):\n",
    "    ids_all.append(entry[:-1])"
   ]
  },
  {
   "cell_type": "code",
   "execution_count": 169,
   "metadata": {
    "collapsed": true
   },
   "outputs": [],
   "source": [
    "confidences_all = []\n",
    "for entry in list(df_2015_02_02['location-fonduer']):\n",
    "    if type(entry) is str and len(entry) > 2:\n",
    "        confidences_all.append(int(entry[-2]))\n",
    "    else:\n",
    "        confidences_all.append(0)"
   ]
  },
  {
   "cell_type": "code",
   "execution_count": 170,
   "metadata": {},
   "outputs": [],
   "source": [
    "df_clean = pd.DataFrame(\n",
    "    {'ID': ids_all,\n",
    "     'Age': ages_all,\n",
    "     'Confidence': confidences_all})"
   ]
  },
  {
   "cell_type": "code",
   "execution_count": 179,
   "metadata": {
    "collapsed": true
   },
   "outputs": [],
   "source": [
    "df_older = df_clean[df_clean.Age > 40]"
   ]
  },
  {
   "cell_type": "code",
   "execution_count": 180,
   "metadata": {},
   "outputs": [
    {
     "data": {
      "text/plain": [
       "13"
      ]
     },
     "execution_count": 180,
     "metadata": {},
     "output_type": "execute_result"
    }
   ],
   "source": [
    "len(df_older)"
   ]
  },
  {
   "cell_type": "code",
   "execution_count": 181,
   "metadata": {},
   "outputs": [
    {
     "data": {
      "text/html": [
       "<div>\n",
       "<style scoped>\n",
       "    .dataframe tbody tr th:only-of-type {\n",
       "        vertical-align: middle;\n",
       "    }\n",
       "\n",
       "    .dataframe tbody tr th {\n",
       "        vertical-align: top;\n",
       "    }\n",
       "\n",
       "    .dataframe thead th {\n",
       "        text-align: right;\n",
       "    }\n",
       "</style>\n",
       "<table border=\"1\" class=\"dataframe\">\n",
       "  <thead>\n",
       "    <tr style=\"text-align: right;\">\n",
       "      <th></th>\n",
       "      <th>ID</th>\n",
       "      <th>Age</th>\n",
       "      <th>Confidence</th>\n",
       "    </tr>\n",
       "  </thead>\n",
       "  <tbody>\n",
       "    <tr>\n",
       "      <th>9</th>\n",
       "      <td>A86AF4CA0468A1A2B677A4882B610783A390E48A16BC08...</td>\n",
       "      <td>42</td>\n",
       "      <td>0</td>\n",
       "    </tr>\n",
       "    <tr>\n",
       "      <th>41</th>\n",
       "      <td>6AC58620DF74663409876DDA81D499762037504290E840...</td>\n",
       "      <td>69</td>\n",
       "      <td>0</td>\n",
       "    </tr>\n",
       "    <tr>\n",
       "      <th>159</th>\n",
       "      <td>C3FA32DEC1E6FD2ADA72AE806F20727DC33781D77BFF01...</td>\n",
       "      <td>44</td>\n",
       "      <td>1</td>\n",
       "    </tr>\n",
       "    <tr>\n",
       "      <th>218</th>\n",
       "      <td>55AD5E19DF167FA7D83144686BA51C6170DAAE0DF37031...</td>\n",
       "      <td>44</td>\n",
       "      <td>1</td>\n",
       "    </tr>\n",
       "    <tr>\n",
       "      <th>228</th>\n",
       "      <td>FAB1ADB96A3E582498C5EE07825B1223BC4EDCE84B18D1...</td>\n",
       "      <td>49</td>\n",
       "      <td>0</td>\n",
       "    </tr>\n",
       "    <tr>\n",
       "      <th>242</th>\n",
       "      <td>7129D9FA5FFFC3232210C1F4FA3F45259B2FA01D0C369D...</td>\n",
       "      <td>98</td>\n",
       "      <td>1</td>\n",
       "    </tr>\n",
       "    <tr>\n",
       "      <th>265</th>\n",
       "      <td>93DDD3754AADEBBF1C7164F12268943749EE77E84880E6...</td>\n",
       "      <td>44</td>\n",
       "      <td>1</td>\n",
       "    </tr>\n",
       "    <tr>\n",
       "      <th>344</th>\n",
       "      <td>DFA674E338C92214F8C030A20FF9811B1765A3903E3528...</td>\n",
       "      <td>43</td>\n",
       "      <td>1</td>\n",
       "    </tr>\n",
       "    <tr>\n",
       "      <th>414</th>\n",
       "      <td>FA6958AC53BF92802817F3E2474754553BDECB17A1AD40...</td>\n",
       "      <td>99</td>\n",
       "      <td>1</td>\n",
       "    </tr>\n",
       "    <tr>\n",
       "      <th>421</th>\n",
       "      <td>B5E5649779E577EFF7BFC8B659E167B731413672D42403...</td>\n",
       "      <td>47</td>\n",
       "      <td>0</td>\n",
       "    </tr>\n",
       "    <tr>\n",
       "      <th>557</th>\n",
       "      <td>D36D12475517E872C4130AFF3D1E2B4E2772EA0830D009...</td>\n",
       "      <td>55</td>\n",
       "      <td>1</td>\n",
       "    </tr>\n",
       "    <tr>\n",
       "      <th>628</th>\n",
       "      <td>7D886B16D2ED44D7B7FF6604E31BED95F277C52B1A1ED5...</td>\n",
       "      <td>45</td>\n",
       "      <td>1</td>\n",
       "    </tr>\n",
       "    <tr>\n",
       "      <th>648</th>\n",
       "      <td>25CD50150014EE8637D6616EF6DD6B1CD44A891E244AA7...</td>\n",
       "      <td>54</td>\n",
       "      <td>0</td>\n",
       "    </tr>\n",
       "  </tbody>\n",
       "</table>\n",
       "</div>"
      ],
      "text/plain": [
       "                                                    ID  Age  Confidence\n",
       "9    A86AF4CA0468A1A2B677A4882B610783A390E48A16BC08...   42           0\n",
       "41   6AC58620DF74663409876DDA81D499762037504290E840...   69           0\n",
       "159  C3FA32DEC1E6FD2ADA72AE806F20727DC33781D77BFF01...   44           1\n",
       "218  55AD5E19DF167FA7D83144686BA51C6170DAAE0DF37031...   44           1\n",
       "228  FAB1ADB96A3E582498C5EE07825B1223BC4EDCE84B18D1...   49           0\n",
       "242  7129D9FA5FFFC3232210C1F4FA3F45259B2FA01D0C369D...   98           1\n",
       "265  93DDD3754AADEBBF1C7164F12268943749EE77E84880E6...   44           1\n",
       "344  DFA674E338C92214F8C030A20FF9811B1765A3903E3528...   43           1\n",
       "414  FA6958AC53BF92802817F3E2474754553BDECB17A1AD40...   99           1\n",
       "421  B5E5649779E577EFF7BFC8B659E167B731413672D42403...   47           0\n",
       "557  D36D12475517E872C4130AFF3D1E2B4E2772EA0830D009...   55           1\n",
       "628  7D886B16D2ED44D7B7FF6604E31BED95F277C52B1A1ED5...   45           1\n",
       "648  25CD50150014EE8637D6616EF6DD6B1CD44A891E244AA7...   54           0"
      ]
     },
     "execution_count": 181,
     "metadata": {},
     "output_type": "execute_result"
    }
   ],
   "source": [
    "df_older"
   ]
  },
  {
   "cell_type": "code",
   "execution_count": 182,
   "metadata": {},
   "outputs": [
    {
     "name": "stdout",
     "output_type": "stream",
     "text": [
      "False\n",
      "False\n",
      "False\n",
      "False\n",
      "False\n",
      "False\n",
      "False\n",
      "False\n",
      "False\n",
      "False\n",
      "False\n",
      "False\n",
      "False\n"
     ]
    }
   ],
   "source": [
    "for ind in df_older.index:\n",
    "    print(df_older['ID'][ind] in available_ids)"
   ]
  },
  {
   "cell_type": "code",
   "execution_count": 187,
   "metadata": {
    "collapsed": true
   },
   "outputs": [],
   "source": [
    "available_ids = []\n",
    "fnames = ['0001.jsonl', '0002.jsonl', '0003.jsonl']\n",
    "for fname in fnames:\n",
    "    with jsonlines.open(fname) as f:\n",
    "        data = [line for line in f.iter()]\n",
    "    df = pd.DataFrame(data)\n",
    "    available_ids += list(df['doc_id'])"
   ]
  },
  {
   "cell_type": "code",
   "execution_count": 188,
   "metadata": {},
   "outputs": [
    {
     "data": {
      "text/plain": [
       "146843"
      ]
     },
     "execution_count": 188,
     "metadata": {},
     "output_type": "execute_result"
    }
   ],
   "source": [
    "len(available_ids)"
   ]
  },
  {
   "cell_type": "markdown",
   "metadata": {},
   "source": [
    "### In the first million lines of the tsv file, none of the thirteen rows with age > 40 had IDs that map to any of the 146,842 IDs available in the jsonl files that are readable (0001.jsonl, 0002.jsonl, and 0003.jsonl).\n",
    "\n",
    "My computer was unable to unzip 0000.jsonl.gz.\n",
    "\n"
   ]
  },
  {
   "cell_type": "code",
   "execution_count": 193,
   "metadata": {},
   "outputs": [
    {
     "data": {
      "text/html": [
       "<div>\n",
       "<style scoped>\n",
       "    .dataframe tbody tr th:only-of-type {\n",
       "        vertical-align: middle;\n",
       "    }\n",
       "\n",
       "    .dataframe tbody tr th {\n",
       "        vertical-align: top;\n",
       "    }\n",
       "\n",
       "    .dataframe thead th {\n",
       "        text-align: right;\n",
       "    }\n",
       "</style>\n",
       "<table border=\"1\" class=\"dataframe\">\n",
       "  <thead>\n",
       "    <tr style=\"text-align: right;\">\n",
       "      <th></th>\n",
       "      <th>type</th>\n",
       "      <th>obj_original_url</th>\n",
       "      <th>crawl_data</th>\n",
       "      <th>timestamp</th>\n",
       "      <th>obj_stored_url</th>\n",
       "      <th>obj_parent</th>\n",
       "      <th>extracted_metadata</th>\n",
       "      <th>version</th>\n",
       "      <th>extracted_text</th>\n",
       "      <th>content_type</th>\n",
       "      <th>team</th>\n",
       "      <th>doc_id</th>\n",
       "      <th>crawler</th>\n",
       "    </tr>\n",
       "  </thead>\n",
       "  <tbody>\n",
       "    <tr>\n",
       "      <th>0</th>\n",
       "      <td>escorts</td>\n",
       "      <td>http://images.escortads.xxx/cities/64/large/16...</td>\n",
       "      <td>{'image_id': 60682675, 'memex_ht_id': 46720621}</td>\n",
       "      <td>2015-01-02T13:38:07</td>\n",
       "      <td>https://s3.amazonaws.com/roxyimages/5db0a55163...</td>\n",
       "      <td>F4C787B6D7868F1F317741DA1C737C3944342FAE27D76D...</td>\n",
       "      <td>None</td>\n",
       "      <td>2.0</td>\n",
       "      <td>None</td>\n",
       "      <td>image/jpeg</td>\n",
       "      <td>IST</td>\n",
       "      <td>70030F8063360BE3E5B562B50B648B1C68F6B54C6CFF3C...</td>\n",
       "      <td>scrapy-cluster</td>\n",
       "    </tr>\n",
       "    <tr>\n",
       "      <th>1</th>\n",
       "      <td>escorts</td>\n",
       "      <td>http://images.eroticmugshots.com/cities/135/la...</td>\n",
       "      <td>{'image_id': 20199715, 'memex_ht_id': 46649407}</td>\n",
       "      <td>2015-01-02T01:44:13</td>\n",
       "      <td>https://s3.amazonaws.com/roxyimages/3672e8806c...</td>\n",
       "      <td>A23EED25B0E02F018F492142DD0118D96395E12ACEEA6C...</td>\n",
       "      <td>None</td>\n",
       "      <td>2.0</td>\n",
       "      <td>None</td>\n",
       "      <td>image/jpeg</td>\n",
       "      <td>IST</td>\n",
       "      <td>55C8F8251B29DAB4CA7B9635D18655C03823BD0C9572B2...</td>\n",
       "      <td>scrapy-cluster</td>\n",
       "    </tr>\n",
       "    <tr>\n",
       "      <th>2</th>\n",
       "      <td>escorts</td>\n",
       "      <td>http://images.eroticmugshots.com/cities/63/lar...</td>\n",
       "      <td>{'image_id': 27542030, 'memex_ht_id': 46695663}</td>\n",
       "      <td>2015-01-02T07:40:10</td>\n",
       "      <td>https://s3.amazonaws.com/roxyimages/158dcfde2c...</td>\n",
       "      <td>64F5B5834D19E87EEB8B35360170DB7832B5CA6F56C582...</td>\n",
       "      <td>None</td>\n",
       "      <td>2.0</td>\n",
       "      <td>None</td>\n",
       "      <td>image/jpeg</td>\n",
       "      <td>IST</td>\n",
       "      <td>612A1C8B024CBEBD641921F2899BC7588D4FDC1ED43F31...</td>\n",
       "      <td>scrapy-cluster</td>\n",
       "    </tr>\n",
       "    <tr>\n",
       "      <th>3</th>\n",
       "      <td>escorts</td>\n",
       "      <td>http://images.eroticmugshots.com/cities/38/lar...</td>\n",
       "      <td>{'image_id': 59797860, 'memex_ht_id': 46740430}</td>\n",
       "      <td>2015-01-02T18:09:07</td>\n",
       "      <td>https://s3.amazonaws.com/roxyimages/8d66d50e55...</td>\n",
       "      <td>EE7CCBBB9B459A706DD141AD394C4028DD7DAFBC1E0639...</td>\n",
       "      <td>None</td>\n",
       "      <td>2.0</td>\n",
       "      <td>None</td>\n",
       "      <td>image/jpeg</td>\n",
       "      <td>IST</td>\n",
       "      <td>92ED027DFCABBD60A1BC6F136BA73B6CC16C5FEBBCA626...</td>\n",
       "      <td>scrapy-cluster</td>\n",
       "    </tr>\n",
       "    <tr>\n",
       "      <th>4</th>\n",
       "      <td>escorts</td>\n",
       "      <td>http://images.eroticmugshots.com/cities/366/la...</td>\n",
       "      <td>{'image_id': 57113777, 'memex_ht_id': 46668732}</td>\n",
       "      <td>2015-01-02T03:15:08</td>\n",
       "      <td>https://s3.amazonaws.com/roxyimages/0cdc6c130b...</td>\n",
       "      <td>53A2D9595D00799AE369D46825086238442B5B7B2A812C...</td>\n",
       "      <td>None</td>\n",
       "      <td>2.0</td>\n",
       "      <td>None</td>\n",
       "      <td>image/jpeg</td>\n",
       "      <td>IST</td>\n",
       "      <td>BAD853E0D5E2BF2661C1E0DA470A3F8DCA468AF0423353...</td>\n",
       "      <td>scrapy-cluster</td>\n",
       "    </tr>\n",
       "    <tr>\n",
       "      <th>...</th>\n",
       "      <td>...</td>\n",
       "      <td>...</td>\n",
       "      <td>...</td>\n",
       "      <td>...</td>\n",
       "      <td>...</td>\n",
       "      <td>...</td>\n",
       "      <td>...</td>\n",
       "      <td>...</td>\n",
       "      <td>...</td>\n",
       "      <td>...</td>\n",
       "      <td>...</td>\n",
       "      <td>...</td>\n",
       "      <td>...</td>\n",
       "    </tr>\n",
       "    <tr>\n",
       "      <th>46838</th>\n",
       "      <td>escorts</td>\n",
       "      <td>http://images.escortsincollege.com/cities/436/...</td>\n",
       "      <td>{'image_id': 34167495, 'memex_ht_id': 46674039}</td>\n",
       "      <td>2015-01-02T03:54:09</td>\n",
       "      <td></td>\n",
       "      <td>030F373755C0DAD0FDAFF5EC1182672276D8713622CB92...</td>\n",
       "      <td>None</td>\n",
       "      <td>2.0</td>\n",
       "      <td>None</td>\n",
       "      <td>image/jpeg</td>\n",
       "      <td>IST</td>\n",
       "      <td>569A51E6F9E0A7D925889DFCD6C1D14743C178DC6FAC40...</td>\n",
       "      <td>scrapy-cluster</td>\n",
       "    </tr>\n",
       "    <tr>\n",
       "      <th>46839</th>\n",
       "      <td>escorts</td>\n",
       "      <td>http://images.escortsincollege.com/cities/107/...</td>\n",
       "      <td>{'image_id': 38252860, 'memex_ht_id': 46679866}</td>\n",
       "      <td>2015-01-02T04:42:07</td>\n",
       "      <td></td>\n",
       "      <td>A4372A2185D2CAB63EDD88953443CA10D650A213E106DA...</td>\n",
       "      <td>None</td>\n",
       "      <td>2.0</td>\n",
       "      <td>None</td>\n",
       "      <td>image/jpeg</td>\n",
       "      <td>IST</td>\n",
       "      <td>0B3A0170D3CD64C4EBECAB040D61631D379DD8FF24A45A...</td>\n",
       "      <td>scrapy-cluster</td>\n",
       "    </tr>\n",
       "    <tr>\n",
       "      <th>46840</th>\n",
       "      <td>escorts</td>\n",
       "      <td>http://images.escortsincollege.com/cities/436/...</td>\n",
       "      <td>{'image_id': 34189236, 'memex_ht_id': 46673992}</td>\n",
       "      <td>2015-01-02T03:54:09</td>\n",
       "      <td></td>\n",
       "      <td>AB9ED495F5CA3045E02E5633FC898F65CBB5B146C9458D...</td>\n",
       "      <td>None</td>\n",
       "      <td>2.0</td>\n",
       "      <td>None</td>\n",
       "      <td>image/jpeg</td>\n",
       "      <td>IST</td>\n",
       "      <td>30825B3466758B20AE740DF956A7C22F828B4CAAD512BF...</td>\n",
       "      <td>scrapy-cluster</td>\n",
       "    </tr>\n",
       "    <tr>\n",
       "      <th>46841</th>\n",
       "      <td>escorts</td>\n",
       "      <td>http://images.eroticmugshots.com/cities/311/la...</td>\n",
       "      <td>{'image_id': 27129457, 'memex_ht_id': 46729988}</td>\n",
       "      <td>2015-01-02T15:58:10</td>\n",
       "      <td></td>\n",
       "      <td>355640C9DB1F4E75517795AE6FDF9179B7711844AA8F96...</td>\n",
       "      <td>None</td>\n",
       "      <td>2.0</td>\n",
       "      <td>None</td>\n",
       "      <td>image/jpeg</td>\n",
       "      <td>IST</td>\n",
       "      <td>F42A14BDC9D549B370A0797BEABF081BF051A87181B4BA...</td>\n",
       "      <td>scrapy-cluster</td>\n",
       "    </tr>\n",
       "    <tr>\n",
       "      <th>46842</th>\n",
       "      <td>escorts</td>\n",
       "      <td>http://images.escortphonelist.com/cities/275/l...</td>\n",
       "      <td>{'parent_url': 'http://503-839-9458.escortphon...</td>\n",
       "      <td>2015-01-02T02:29:08</td>\n",
       "      <td>https://s3.amazonaws.com/roxyimages/220d3c1d3e...</td>\n",
       "      <td>B9CA0F67D10ADB4D5C406E500A504A671C2D69C60F1D2B...</td>\n",
       "      <td>None</td>\n",
       "      <td>2.0</td>\n",
       "      <td>None</td>\n",
       "      <td>image/jpeg</td>\n",
       "      <td>IST</td>\n",
       "      <td>NaN</td>\n",
       "      <td>scrapy-cluster</td>\n",
       "    </tr>\n",
       "  </tbody>\n",
       "</table>\n",
       "<p>46843 rows × 13 columns</p>\n",
       "</div>"
      ],
      "text/plain": [
       "          type                                   obj_original_url  \\\n",
       "0      escorts  http://images.escortads.xxx/cities/64/large/16...   \n",
       "1      escorts  http://images.eroticmugshots.com/cities/135/la...   \n",
       "2      escorts  http://images.eroticmugshots.com/cities/63/lar...   \n",
       "3      escorts  http://images.eroticmugshots.com/cities/38/lar...   \n",
       "4      escorts  http://images.eroticmugshots.com/cities/366/la...   \n",
       "...        ...                                                ...   \n",
       "46838  escorts  http://images.escortsincollege.com/cities/436/...   \n",
       "46839  escorts  http://images.escortsincollege.com/cities/107/...   \n",
       "46840  escorts  http://images.escortsincollege.com/cities/436/...   \n",
       "46841  escorts  http://images.eroticmugshots.com/cities/311/la...   \n",
       "46842  escorts  http://images.escortphonelist.com/cities/275/l...   \n",
       "\n",
       "                                              crawl_data            timestamp  \\\n",
       "0        {'image_id': 60682675, 'memex_ht_id': 46720621}  2015-01-02T13:38:07   \n",
       "1        {'image_id': 20199715, 'memex_ht_id': 46649407}  2015-01-02T01:44:13   \n",
       "2        {'image_id': 27542030, 'memex_ht_id': 46695663}  2015-01-02T07:40:10   \n",
       "3        {'image_id': 59797860, 'memex_ht_id': 46740430}  2015-01-02T18:09:07   \n",
       "4        {'image_id': 57113777, 'memex_ht_id': 46668732}  2015-01-02T03:15:08   \n",
       "...                                                  ...                  ...   \n",
       "46838    {'image_id': 34167495, 'memex_ht_id': 46674039}  2015-01-02T03:54:09   \n",
       "46839    {'image_id': 38252860, 'memex_ht_id': 46679866}  2015-01-02T04:42:07   \n",
       "46840    {'image_id': 34189236, 'memex_ht_id': 46673992}  2015-01-02T03:54:09   \n",
       "46841    {'image_id': 27129457, 'memex_ht_id': 46729988}  2015-01-02T15:58:10   \n",
       "46842  {'parent_url': 'http://503-839-9458.escortphon...  2015-01-02T02:29:08   \n",
       "\n",
       "                                          obj_stored_url  \\\n",
       "0      https://s3.amazonaws.com/roxyimages/5db0a55163...   \n",
       "1      https://s3.amazonaws.com/roxyimages/3672e8806c...   \n",
       "2      https://s3.amazonaws.com/roxyimages/158dcfde2c...   \n",
       "3      https://s3.amazonaws.com/roxyimages/8d66d50e55...   \n",
       "4      https://s3.amazonaws.com/roxyimages/0cdc6c130b...   \n",
       "...                                                  ...   \n",
       "46838                                                      \n",
       "46839                                                      \n",
       "46840                                                      \n",
       "46841                                                      \n",
       "46842  https://s3.amazonaws.com/roxyimages/220d3c1d3e...   \n",
       "\n",
       "                                              obj_parent extracted_metadata  \\\n",
       "0      F4C787B6D7868F1F317741DA1C737C3944342FAE27D76D...               None   \n",
       "1      A23EED25B0E02F018F492142DD0118D96395E12ACEEA6C...               None   \n",
       "2      64F5B5834D19E87EEB8B35360170DB7832B5CA6F56C582...               None   \n",
       "3      EE7CCBBB9B459A706DD141AD394C4028DD7DAFBC1E0639...               None   \n",
       "4      53A2D9595D00799AE369D46825086238442B5B7B2A812C...               None   \n",
       "...                                                  ...                ...   \n",
       "46838  030F373755C0DAD0FDAFF5EC1182672276D8713622CB92...               None   \n",
       "46839  A4372A2185D2CAB63EDD88953443CA10D650A213E106DA...               None   \n",
       "46840  AB9ED495F5CA3045E02E5633FC898F65CBB5B146C9458D...               None   \n",
       "46841  355640C9DB1F4E75517795AE6FDF9179B7711844AA8F96...               None   \n",
       "46842  B9CA0F67D10ADB4D5C406E500A504A671C2D69C60F1D2B...               None   \n",
       "\n",
       "       version extracted_text content_type team  \\\n",
       "0          2.0           None   image/jpeg  IST   \n",
       "1          2.0           None   image/jpeg  IST   \n",
       "2          2.0           None   image/jpeg  IST   \n",
       "3          2.0           None   image/jpeg  IST   \n",
       "4          2.0           None   image/jpeg  IST   \n",
       "...        ...            ...          ...  ...   \n",
       "46838      2.0           None   image/jpeg  IST   \n",
       "46839      2.0           None   image/jpeg  IST   \n",
       "46840      2.0           None   image/jpeg  IST   \n",
       "46841      2.0           None   image/jpeg  IST   \n",
       "46842      2.0           None   image/jpeg  IST   \n",
       "\n",
       "                                                  doc_id         crawler  \n",
       "0      70030F8063360BE3E5B562B50B648B1C68F6B54C6CFF3C...  scrapy-cluster  \n",
       "1      55C8F8251B29DAB4CA7B9635D18655C03823BD0C9572B2...  scrapy-cluster  \n",
       "2      612A1C8B024CBEBD641921F2899BC7588D4FDC1ED43F31...  scrapy-cluster  \n",
       "3      92ED027DFCABBD60A1BC6F136BA73B6CC16C5FEBBCA626...  scrapy-cluster  \n",
       "4      BAD853E0D5E2BF2661C1E0DA470A3F8DCA468AF0423353...  scrapy-cluster  \n",
       "...                                                  ...             ...  \n",
       "46838  569A51E6F9E0A7D925889DFCD6C1D14743C178DC6FAC40...  scrapy-cluster  \n",
       "46839  0B3A0170D3CD64C4EBECAB040D61631D379DD8FF24A45A...  scrapy-cluster  \n",
       "46840  30825B3466758B20AE740DF956A7C22F828B4CAAD512BF...  scrapy-cluster  \n",
       "46841  F42A14BDC9D549B370A0797BEABF081BF051A87181B4BA...  scrapy-cluster  \n",
       "46842                                                NaN  scrapy-cluster  \n",
       "\n",
       "[46843 rows x 13 columns]"
      ]
     },
     "execution_count": 193,
     "metadata": {},
     "output_type": "execute_result"
    }
   ],
   "source": [
    "df"
   ]
  },
  {
   "cell_type": "code",
   "execution_count": null,
   "metadata": {
    "collapsed": true
   },
   "outputs": [],
   "source": []
  }
 ],
 "metadata": {
  "kernelspec": {
   "display_name": "Python 3",
   "language": "python",
   "name": "python3"
  },
  "language_info": {
   "codemirror_mode": {
    "name": "ipython",
    "version": 3
   },
   "file_extension": ".py",
   "mimetype": "text/x-python",
   "name": "python",
   "nbconvert_exporter": "python",
   "pygments_lexer": "ipython3",
   "version": "3.8.2"
  }
 },
 "nbformat": 4,
 "nbformat_minor": 2
}
